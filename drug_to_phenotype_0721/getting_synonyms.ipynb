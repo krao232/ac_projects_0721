{
 "cells": [
  {
   "cell_type": "code",
   "execution_count": 1,
   "metadata": {},
   "outputs": [
    {
     "name": "stderr",
     "output_type": "stream",
     "text": [
      "2021-07-21 13:27:08,042 | INFO     | NferxLogger | URL: https://preview.nferx.com/api/is_authenticated, process-time: 0.4948890209197998\n",
      "2021-07-21 13:27:08,419 | INFO     | NferxLogger | URL: https://preview.nferx.com/api/get_data_versions, process-time: 0.37604188919067383\n"
     ]
    }
   ],
   "source": [
    "from get_kg_synonyms import *\n",
    "from tqdm.notebook import tqdm\n",
    "import pandas as pd"
   ]
  },
  {
   "cell_type": "code",
   "execution_count": 2,
   "metadata": {},
   "outputs": [],
   "source": [
    "CI_dict = {\n",
    "    'PD-1': ['Nivolumab',   'Pembrolizumab',   'Cemiplimab'], \n",
    "    'PDL-1': ['Atezolizumab',   'Avelumab', 'Durvalumab'], \n",
    "    'anti-CTLA4': ['Ipilimumab']\n",
    "}"
   ]
  },
  {
   "cell_type": "code",
   "execution_count": 3,
   "metadata": {},
   "outputs": [],
   "source": [
    "AE_dict = {\n",
    "    'Encephalitis',\n",
    "    'Aseptic meningitis',\n",
    "    'Hypophysitis',\n",
    "    'Uveitis',\n",
    "    'Thyroiditis',\n",
    "    'Hypothyroidism',\n",
    "    'Hyperthyroidism',\n",
    "    'Pneumonitis',\n",
    "    'Thrombocytopenia',\n",
    "    'Anemia',\n",
    "    'Hepatitis',\n",
    "    'Adrenal insufficiency',\n",
    "    'Nephritis',\n",
    "    'Vasculitis',\n",
    "    'Arthralgia',\n",
    "    'Neuropathy',\n",
    "    'Uveitis',\n",
    "    'Dry mouth',\n",
    "    'Mucositis',\n",
    "    'Rash',\n",
    "    'SCAR events',\n",
    "    'Vitiligo',\n",
    "    'Myocarditis',\n",
    "    'Pancreatitis',\n",
    "    'Autoimmune diabetes',\n",
    "    'Colitis',\n",
    "    'Enteritis',\n",
    "    }"
   ]
  },
  {
   "cell_type": "code",
   "execution_count": 45,
   "metadata": {},
   "outputs": [
    {
     "data": {
      "application/vnd.jupyter.widget-view+json": {
       "model_id": "00578c3ce9cb472e916f944c3ebecf0f",
       "version_major": 2,
       "version_minor": 0
      },
      "text/plain": [
       "HBox(children=(FloatProgress(value=0.0, max=3.0), HTML(value='')))"
      ]
     },
     "metadata": {},
     "output_type": "display_data"
    },
    {
     "name": "stdout",
     "output_type": "stream",
     "text": [
      "\n"
     ]
    },
    {
     "data": {
      "text/plain": [
       "87"
      ]
     },
     "execution_count": 45,
     "metadata": {},
     "output_type": "execute_result"
    }
   ],
   "source": [
    "CI_res = [] \n",
    "for key in tqdm(CI_dict): \n",
    "    for elem in CI_dict[key]:\n",
    "        syns = get_kg_synonyms(elem)\n",
    "        CI_res.append({'CI': key, 'drug': elem, 'drug_syns': syns})\n",
    "CI_df = pd.DataFrame(CI_res).explode('drug_syns').drop_duplicates('drug_syns')\n",
    "len(CI_df)"
   ]
  },
  {
   "cell_type": "code",
   "execution_count": 46,
   "metadata": {},
   "outputs": [
    {
     "data": {
      "application/vnd.jupyter.widget-view+json": {
       "model_id": "62fb060f8db84958b1ae29a6af0e0d67",
       "version_major": 2,
       "version_minor": 0
      },
      "text/plain": [
       "HBox(children=(FloatProgress(value=0.0, max=26.0), HTML(value='')))"
      ]
     },
     "metadata": {},
     "output_type": "display_data"
    },
    {
     "name": "stdout",
     "output_type": "stream",
     "text": [
      "\n"
     ]
    },
    {
     "data": {
      "text/plain": [
       "108"
      ]
     },
     "execution_count": 46,
     "metadata": {},
     "output_type": "execute_result"
    }
   ],
   "source": [
    "AE_res = []\n",
    "for key in tqdm(AE_dict): \n",
    "    syns = get_kg_synonyms(key)\n",
    "    AE_res.append({'adverse_event': key, 'ae_syns': syns})\n",
    "AE_df = pd.DataFrame(AE_res).explode('ae_syns').drop_duplicates('ae_syns')\n",
    "len(AE_df)"
   ]
  },
  {
   "cell_type": "code",
   "execution_count": 47,
   "metadata": {},
   "outputs": [
    {
     "data": {
      "text/plain": [
       "(87, 87)"
      ]
     },
     "execution_count": 47,
     "metadata": {},
     "output_type": "execute_result"
    }
   ],
   "source": [
    "len(CI_df), CI_df.drug_syns.nunique()"
   ]
  },
  {
   "cell_type": "code",
   "execution_count": 48,
   "metadata": {},
   "outputs": [
    {
     "data": {
      "text/plain": [
       "(108, 108)"
      ]
     },
     "execution_count": 48,
     "metadata": {},
     "output_type": "execute_result"
    }
   ],
   "source": [
    "len(AE_df), AE_df.ae_syns.nunique()"
   ]
  },
  {
   "cell_type": "code",
   "execution_count": 49,
   "metadata": {},
   "outputs": [],
   "source": [
    "candidate_pairs = []\n",
    "for elem in CI_df.to_numpy(): \n",
    "        for AE in AE_df.to_numpy(): \n",
    "            candidate_pairs.append({\n",
    "                                    'CI': CI[0], \n",
    "                                    'drug': CI[1], \n",
    "                                    'drug_synonym': CI[2],\n",
    "                                    'adverse_event': AE[0], \n",
    "                                    'adverse_event_synonym': AE[1]\n",
    "                                    })"
   ]
  },
  {
   "cell_type": "code",
   "execution_count": 50,
   "metadata": {},
   "outputs": [],
   "source": [
    "df = pd.DataFrame(candidate_pairs)"
   ]
  },
  {
   "cell_type": "code",
   "execution_count": 51,
   "metadata": {},
   "outputs": [
    {
     "data": {
      "text/plain": [
       "9396"
      ]
     },
     "execution_count": 51,
     "metadata": {},
     "output_type": "execute_result"
    }
   ],
   "source": [
    "len(df)"
   ]
  },
  {
   "cell_type": "code",
   "execution_count": 73,
   "metadata": {},
   "outputs": [
    {
     "name": "stdout",
     "output_type": "stream",
     "text": [
      "'nivolumab',\n",
      "'bms_986298',\n",
      "'opdivo_injection',\n",
      "'nivo',\n",
      "'bms_936658',\n",
      "'optivo',\n",
      "'nsc_748726',\n",
      "'l01xc17',\n",
      "'combo_immuno',\n",
      "'bms_963558',\n",
      "'ono_4538',\n",
      "'opdivo',\n",
      "'nivolumab_opdivo',\n",
      "'bms_936558',\n",
      "'mdx_1106',\n",
      "'radium_223',\n",
      "'nivolumab_bms',\n",
      "'bms_93655801',\n",
      "'mdx110604',\n",
      "'pembrolizumab',\n",
      "'anti_pd_1_monoclonal_antibody_mk_3475',\n",
      "'keytruda_merck',\n",
      "'sch_9000475',\n",
      "'pembro',\n",
      "'mk3476',\n",
      "'sch_900475',\n",
      "'mk_3475',\n",
      "'lambrolizumab',\n",
      "'keytruda',\n",
      "'merck_3475',\n",
      "'checkpoint_blockade_administration',\n",
      "'pem',\n",
      "'pbl',\n",
      "'mk3475879',\n",
      "'cemiplimab',\n",
      "'libtayo',\n",
      "'regn2810',\n",
      "'cemiplimab_rwlc',\n",
      "'anti_pd_1_monoclonal_antibody_regn2810',\n",
      "'atezolizumab',\n",
      "'ro5541267',\n",
      "'anti_pd_l1_monoclonal_antibody_mpdl3280a',\n",
      "'tecentric',\n",
      "'l01xc32',\n",
      "'tecentriq',\n",
      "'mpdl328oa',\n",
      "'atezolizumab_(mpdl3280a)',\n",
      "'rg7446',\n",
      "'mpdl3280a',\n",
      "'mpdl3280',\n",
      "'anti_pd_l1',\n",
      "'mdpl3280a',\n",
      "'atz',\n",
      "'avelumab',\n",
      "'bavencio',\n",
      "'msb0010682',\n",
      "'anti_pd_l1_monoclonal_antibody_msb0010718c',\n",
      "'msb00107',\n",
      "'immunoglobulin_g1_lambda1',\n",
      "'msb0010718c',\n",
      "'cd274',\n",
      "'durvalumab',\n",
      "'imfinzi',\n",
      "'imfinizi',\n",
      "'durva',\n",
      "'d10808',\n",
      "'imfimzi',\n",
      "'medi4736',\n",
      "'kappa_chain',\n",
      "'imrt_50',\n",
      "'durvalumab_(medi_4736)',\n",
      "'ipilimumab',\n",
      "'bms_734016',\n",
      "'mdx_ctla_4',\n",
      "'moab_ctla_4',\n",
      "'nsc_732442',\n",
      "'ipilimumab_yervoy_bms',\n",
      "'yervoy',\n",
      "'anti_cytotoxic_t_lymphocyte_associated_antigen_4_monoclonal_antibody',\n",
      "'mdx_010',\n",
      "'mdx_101',\n",
      "'monoclonal_antibody_ctla_4',\n",
      "'anti_ctla_4_mab_ipilimumab',\n",
      "'monoclonal_antibody_mdx_010',\n",
      "'anti_ctla4',\n",
      "'cs1002',\n",
      "'ibi310',\n"
     ]
    }
   ],
   "source": [
    "for elem in CI_df.to_numpy(): \n",
    "    print(\"'{}',\".format(elem[2]))"
   ]
  },
  {
   "cell_type": "code",
   "execution_count": 76,
   "metadata": {},
   "outputs": [],
   "source": [
    "CI_df.to_csv('checkpoint_inhibitors_roche.csv', index = False)\n",
    "AE_df.to_csv('adverse_events_roche.csv', index = False)"
   ]
  }
 ],
 "metadata": {
  "kernelspec": {
   "display_name": "Python 3",
   "language": "python",
   "name": "python3"
  },
  "language_info": {
   "codemirror_mode": {
    "name": "ipython",
    "version": 3
   },
   "file_extension": ".py",
   "mimetype": "text/x-python",
   "name": "python",
   "nbconvert_exporter": "python",
   "pygments_lexer": "ipython3",
   "version": "3.8.3"
  }
 },
 "nbformat": 4,
 "nbformat_minor": 4
}
